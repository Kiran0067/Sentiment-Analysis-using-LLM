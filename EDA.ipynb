{
 "cells": [
  {
   "cell_type": "code",
   "execution_count": 149,
   "id": "07c6ffb7-2f61-4a25-a5b8-78421373f3b1",
   "metadata": {},
   "outputs": [],
   "source": [
    "import pandas as pd\n",
    "import numpy as np\n",
    "import matplotlib\n",
    "from matplotlib import pyplot\n",
    "import matplotlib.pyplot as plt\n",
    "%matplotlib inLine\n",
    "import seaborn as sns\n",
    "\n",
    "\n"
   ]
  },
  {
   "cell_type": "code",
   "execution_count": 151,
   "id": "bf6152fc-6d32-476f-98da-d29fa0d27a31",
   "metadata": {},
   "outputs": [],
   "source": [
    "df = pd.read_csv('test.csv')"
   ]
  },
  {
   "cell_type": "code",
   "execution_count": 153,
   "id": "7ee6c5a0-c56c-446d-ada5-747144bcdd9f",
   "metadata": {},
   "outputs": [
    {
     "data": {
      "text/html": [
       "<div>\n",
       "<style scoped>\n",
       "    .dataframe tbody tr th:only-of-type {\n",
       "        vertical-align: middle;\n",
       "    }\n",
       "\n",
       "    .dataframe tbody tr th {\n",
       "        vertical-align: top;\n",
       "    }\n",
       "\n",
       "    .dataframe thead th {\n",
       "        text-align: right;\n",
       "    }\n",
       "</style>\n",
       "<table border=\"1\" class=\"dataframe\">\n",
       "  <thead>\n",
       "    <tr style=\"text-align: right;\">\n",
       "      <th></th>\n",
       "      <th>Unnamed: 0</th>\n",
       "      <th>review_id</th>\n",
       "      <th>product_id</th>\n",
       "      <th>reviewer_id</th>\n",
       "      <th>stars</th>\n",
       "      <th>review_body</th>\n",
       "      <th>review_title</th>\n",
       "      <th>language</th>\n",
       "      <th>product_category</th>\n",
       "    </tr>\n",
       "  </thead>\n",
       "  <tbody>\n",
       "    <tr>\n",
       "      <th>0</th>\n",
       "      <td>0</td>\n",
       "      <td>de_0784695</td>\n",
       "      <td>product_de_0572654</td>\n",
       "      <td>reviewer_de_0645436</td>\n",
       "      <td>1</td>\n",
       "      <td>Leider, leider nach einmal waschen ausgebliche...</td>\n",
       "      <td>Leider nicht zu empfehlen</td>\n",
       "      <td>de</td>\n",
       "      <td>home</td>\n",
       "    </tr>\n",
       "    <tr>\n",
       "      <th>1</th>\n",
       "      <td>1</td>\n",
       "      <td>de_0759207</td>\n",
       "      <td>product_de_0567331</td>\n",
       "      <td>reviewer_de_0183703</td>\n",
       "      <td>1</td>\n",
       "      <td>zunächst macht der Anker Halter einen soliden ...</td>\n",
       "      <td>Gummierung nach 6 Monaten kaputt</td>\n",
       "      <td>de</td>\n",
       "      <td>wireless</td>\n",
       "    </tr>\n",
       "    <tr>\n",
       "      <th>2</th>\n",
       "      <td>2</td>\n",
       "      <td>de_0711785</td>\n",
       "      <td>product_de_0482105</td>\n",
       "      <td>reviewer_de_0182152</td>\n",
       "      <td>1</td>\n",
       "      <td>Siegel sowie Verpackung war beschädigt und war...</td>\n",
       "      <td>Flohmarkt ware</td>\n",
       "      <td>de</td>\n",
       "      <td>industrial_supplies</td>\n",
       "    </tr>\n",
       "    <tr>\n",
       "      <th>3</th>\n",
       "      <td>3</td>\n",
       "      <td>de_0964430</td>\n",
       "      <td>product_de_0616480</td>\n",
       "      <td>reviewer_de_0991563</td>\n",
       "      <td>1</td>\n",
       "      <td>Habe dieses Produkt NIE erhalten und das Geld ...</td>\n",
       "      <td>Katastrophe</td>\n",
       "      <td>de</td>\n",
       "      <td>industrial_supplies</td>\n",
       "    </tr>\n",
       "    <tr>\n",
       "      <th>4</th>\n",
       "      <td>4</td>\n",
       "      <td>de_0474538</td>\n",
       "      <td>product_de_0228702</td>\n",
       "      <td>reviewer_de_0316188</td>\n",
       "      <td>1</td>\n",
       "      <td>Die Träger sind schnell abgerissen</td>\n",
       "      <td>Reißverschluss klemmt</td>\n",
       "      <td>de</td>\n",
       "      <td>luggage</td>\n",
       "    </tr>\n",
       "  </tbody>\n",
       "</table>\n",
       "</div>"
      ],
      "text/plain": [
       "   Unnamed: 0   review_id          product_id          reviewer_id  stars  \\\n",
       "0           0  de_0784695  product_de_0572654  reviewer_de_0645436      1   \n",
       "1           1  de_0759207  product_de_0567331  reviewer_de_0183703      1   \n",
       "2           2  de_0711785  product_de_0482105  reviewer_de_0182152      1   \n",
       "3           3  de_0964430  product_de_0616480  reviewer_de_0991563      1   \n",
       "4           4  de_0474538  product_de_0228702  reviewer_de_0316188      1   \n",
       "\n",
       "                                         review_body  \\\n",
       "0  Leider, leider nach einmal waschen ausgebliche...   \n",
       "1  zunächst macht der Anker Halter einen soliden ...   \n",
       "2  Siegel sowie Verpackung war beschädigt und war...   \n",
       "3  Habe dieses Produkt NIE erhalten und das Geld ...   \n",
       "4                 Die Träger sind schnell abgerissen   \n",
       "\n",
       "                       review_title language     product_category  \n",
       "0         Leider nicht zu empfehlen       de                 home  \n",
       "1  Gummierung nach 6 Monaten kaputt       de             wireless  \n",
       "2                    Flohmarkt ware       de  industrial_supplies  \n",
       "3                       Katastrophe       de  industrial_supplies  \n",
       "4             Reißverschluss klemmt       de              luggage  "
      ]
     },
     "execution_count": 153,
     "metadata": {},
     "output_type": "execute_result"
    }
   ],
   "source": [
    "df.head()"
   ]
  },
  {
   "cell_type": "code",
   "execution_count": 155,
   "id": "825c37a2-0ac7-4566-ba09-cafad32af87a",
   "metadata": {},
   "outputs": [
    {
     "data": {
      "text/html": [
       "<div>\n",
       "<style scoped>\n",
       "    .dataframe tbody tr th:only-of-type {\n",
       "        vertical-align: middle;\n",
       "    }\n",
       "\n",
       "    .dataframe tbody tr th {\n",
       "        vertical-align: top;\n",
       "    }\n",
       "\n",
       "    .dataframe thead th {\n",
       "        text-align: right;\n",
       "    }\n",
       "</style>\n",
       "<table border=\"1\" class=\"dataframe\">\n",
       "  <thead>\n",
       "    <tr style=\"text-align: right;\">\n",
       "      <th></th>\n",
       "      <th>Unnamed: 0</th>\n",
       "      <th>review_id</th>\n",
       "      <th>product_id</th>\n",
       "      <th>reviewer_id</th>\n",
       "      <th>stars</th>\n",
       "      <th>review_body</th>\n",
       "      <th>review_title</th>\n",
       "      <th>language</th>\n",
       "      <th>product_category</th>\n",
       "    </tr>\n",
       "  </thead>\n",
       "  <tbody>\n",
       "    <tr>\n",
       "      <th>0</th>\n",
       "      <td>0</td>\n",
       "      <td>de_0784695</td>\n",
       "      <td>product_de_0572654</td>\n",
       "      <td>reviewer_de_0645436</td>\n",
       "      <td>1</td>\n",
       "      <td>Leider, leider nach einmal waschen ausgebliche...</td>\n",
       "      <td>Leider nicht zu empfehlen</td>\n",
       "      <td>de</td>\n",
       "      <td>home</td>\n",
       "    </tr>\n",
       "    <tr>\n",
       "      <th>1</th>\n",
       "      <td>1</td>\n",
       "      <td>de_0759207</td>\n",
       "      <td>product_de_0567331</td>\n",
       "      <td>reviewer_de_0183703</td>\n",
       "      <td>1</td>\n",
       "      <td>zunächst macht der Anker Halter einen soliden ...</td>\n",
       "      <td>Gummierung nach 6 Monaten kaputt</td>\n",
       "      <td>de</td>\n",
       "      <td>wireless</td>\n",
       "    </tr>\n",
       "    <tr>\n",
       "      <th>2</th>\n",
       "      <td>2</td>\n",
       "      <td>de_0711785</td>\n",
       "      <td>product_de_0482105</td>\n",
       "      <td>reviewer_de_0182152</td>\n",
       "      <td>1</td>\n",
       "      <td>Siegel sowie Verpackung war beschädigt und war...</td>\n",
       "      <td>Flohmarkt ware</td>\n",
       "      <td>de</td>\n",
       "      <td>industrial_supplies</td>\n",
       "    </tr>\n",
       "    <tr>\n",
       "      <th>3</th>\n",
       "      <td>3</td>\n",
       "      <td>de_0964430</td>\n",
       "      <td>product_de_0616480</td>\n",
       "      <td>reviewer_de_0991563</td>\n",
       "      <td>1</td>\n",
       "      <td>Habe dieses Produkt NIE erhalten und das Geld ...</td>\n",
       "      <td>Katastrophe</td>\n",
       "      <td>de</td>\n",
       "      <td>industrial_supplies</td>\n",
       "    </tr>\n",
       "    <tr>\n",
       "      <th>4</th>\n",
       "      <td>4</td>\n",
       "      <td>de_0474538</td>\n",
       "      <td>product_de_0228702</td>\n",
       "      <td>reviewer_de_0316188</td>\n",
       "      <td>1</td>\n",
       "      <td>Die Träger sind schnell abgerissen</td>\n",
       "      <td>Reißverschluss klemmt</td>\n",
       "      <td>de</td>\n",
       "      <td>luggage</td>\n",
       "    </tr>\n",
       "    <tr>\n",
       "      <th>...</th>\n",
       "      <td>...</td>\n",
       "      <td>...</td>\n",
       "      <td>...</td>\n",
       "      <td>...</td>\n",
       "      <td>...</td>\n",
       "      <td>...</td>\n",
       "      <td>...</td>\n",
       "      <td>...</td>\n",
       "      <td>...</td>\n",
       "    </tr>\n",
       "    <tr>\n",
       "      <th>29995</th>\n",
       "      <td>29995</td>\n",
       "      <td>zh_0691813</td>\n",
       "      <td>product_zh_0978860</td>\n",
       "      <td>reviewer_zh_0800380</td>\n",
       "      <td>5</td>\n",
       "      <td>用的少，意大利的，偶尔会煮下。。。。。。。</td>\n",
       "      <td>用的少，应该还可以的</td>\n",
       "      <td>zh</td>\n",
       "      <td>kitchen</td>\n",
       "    </tr>\n",
       "    <tr>\n",
       "      <th>29996</th>\n",
       "      <td>29996</td>\n",
       "      <td>zh_0720214</td>\n",
       "      <td>product_zh_0929524</td>\n",
       "      <td>reviewer_zh_0944464</td>\n",
       "      <td>5</td>\n",
       "      <td>QAQ熬夜看完的。 这竟然是一个真实的爱情故事。 觉得可以改编成爱情电影了。 hoho。</td>\n",
       "      <td>QAQ这是一段爱情之旅。</td>\n",
       "      <td>zh</td>\n",
       "      <td>book</td>\n",
       "    </tr>\n",
       "    <tr>\n",
       "      <th>29997</th>\n",
       "      <td>29997</td>\n",
       "      <td>zh_0651091</td>\n",
       "      <td>product_zh_0654154</td>\n",
       "      <td>reviewer_zh_0959472</td>\n",
       "      <td>5</td>\n",
       "      <td>上午十点下单，下午就送到我手里了，简直神速，不能更满意了</td>\n",
       "      <td>很好</td>\n",
       "      <td>zh</td>\n",
       "      <td>book</td>\n",
       "    </tr>\n",
       "    <tr>\n",
       "      <th>29998</th>\n",
       "      <td>29998</td>\n",
       "      <td>zh_0299325</td>\n",
       "      <td>product_zh_0871641</td>\n",
       "      <td>reviewer_zh_0119054</td>\n",
       "      <td>5</td>\n",
       "      <td>洗护用品很好卖家送了两个方便折叠小梳子，非常方便</td>\n",
       "      <td>很好</td>\n",
       "      <td>zh</td>\n",
       "      <td>beauty</td>\n",
       "    </tr>\n",
       "    <tr>\n",
       "      <th>29999</th>\n",
       "      <td>29999</td>\n",
       "      <td>zh_0470070</td>\n",
       "      <td>product_zh_0619157</td>\n",
       "      <td>reviewer_zh_0446556</td>\n",
       "      <td>5</td>\n",
       "      <td>包装很严实，在我看来有点过度包装了。套件做工很不错，值得购买。</td>\n",
       "      <td>套件很好</td>\n",
       "      <td>zh</td>\n",
       "      <td>camera</td>\n",
       "    </tr>\n",
       "  </tbody>\n",
       "</table>\n",
       "<p>30000 rows × 9 columns</p>\n",
       "</div>"
      ],
      "text/plain": [
       "       Unnamed: 0   review_id          product_id          reviewer_id  stars  \\\n",
       "0               0  de_0784695  product_de_0572654  reviewer_de_0645436      1   \n",
       "1               1  de_0759207  product_de_0567331  reviewer_de_0183703      1   \n",
       "2               2  de_0711785  product_de_0482105  reviewer_de_0182152      1   \n",
       "3               3  de_0964430  product_de_0616480  reviewer_de_0991563      1   \n",
       "4               4  de_0474538  product_de_0228702  reviewer_de_0316188      1   \n",
       "...           ...         ...                 ...                  ...    ...   \n",
       "29995       29995  zh_0691813  product_zh_0978860  reviewer_zh_0800380      5   \n",
       "29996       29996  zh_0720214  product_zh_0929524  reviewer_zh_0944464      5   \n",
       "29997       29997  zh_0651091  product_zh_0654154  reviewer_zh_0959472      5   \n",
       "29998       29998  zh_0299325  product_zh_0871641  reviewer_zh_0119054      5   \n",
       "29999       29999  zh_0470070  product_zh_0619157  reviewer_zh_0446556      5   \n",
       "\n",
       "                                             review_body  \\\n",
       "0      Leider, leider nach einmal waschen ausgebliche...   \n",
       "1      zunächst macht der Anker Halter einen soliden ...   \n",
       "2      Siegel sowie Verpackung war beschädigt und war...   \n",
       "3      Habe dieses Produkt NIE erhalten und das Geld ...   \n",
       "4                     Die Träger sind schnell abgerissen   \n",
       "...                                                  ...   \n",
       "29995                              用的少，意大利的，偶尔会煮下。。。。。。。   \n",
       "29996       QAQ熬夜看完的。 这竟然是一个真实的爱情故事。 觉得可以改编成爱情电影了。 hoho。   \n",
       "29997                       上午十点下单，下午就送到我手里了，简直神速，不能更满意了   \n",
       "29998                           洗护用品很好卖家送了两个方便折叠小梳子，非常方便   \n",
       "29999                    包装很严实，在我看来有点过度包装了。套件做工很不错，值得购买。   \n",
       "\n",
       "                           review_title language     product_category  \n",
       "0             Leider nicht zu empfehlen       de                 home  \n",
       "1      Gummierung nach 6 Monaten kaputt       de             wireless  \n",
       "2                        Flohmarkt ware       de  industrial_supplies  \n",
       "3                           Katastrophe       de  industrial_supplies  \n",
       "4                 Reißverschluss klemmt       de              luggage  \n",
       "...                                 ...      ...                  ...  \n",
       "29995                        用的少，应该还可以的       zh              kitchen  \n",
       "29996                      QAQ这是一段爱情之旅。       zh                 book  \n",
       "29997                                很好       zh                 book  \n",
       "29998                                很好       zh               beauty  \n",
       "29999                              套件很好       zh               camera  \n",
       "\n",
       "[30000 rows x 9 columns]"
      ]
     },
     "execution_count": 155,
     "metadata": {},
     "output_type": "execute_result"
    }
   ],
   "source": [
    "df"
   ]
  },
  {
   "cell_type": "code",
   "execution_count": 157,
   "id": "27912307-b2f4-45db-9845-2d4d538474f1",
   "metadata": {},
   "outputs": [
    {
     "data": {
      "text/plain": [
       "(30000, 9)"
      ]
     },
     "execution_count": 157,
     "metadata": {},
     "output_type": "execute_result"
    }
   ],
   "source": [
    "df.shape\n"
   ]
  },
  {
   "cell_type": "code",
   "execution_count": 159,
   "id": "5371a97a-22e4-43b7-80eb-8acb0d2d0e43",
   "metadata": {},
   "outputs": [
    {
     "name": "stdout",
     "output_type": "stream",
     "text": [
      "<class 'pandas.core.frame.DataFrame'>\n",
      "RangeIndex: 30000 entries, 0 to 29999\n",
      "Data columns (total 9 columns):\n",
      " #   Column            Non-Null Count  Dtype \n",
      "---  ------            --------------  ----- \n",
      " 0   Unnamed: 0        30000 non-null  int64 \n",
      " 1   review_id         30000 non-null  object\n",
      " 2   product_id        30000 non-null  object\n",
      " 3   reviewer_id       30000 non-null  object\n",
      " 4   stars             30000 non-null  int64 \n",
      " 5   review_body       30000 non-null  object\n",
      " 6   review_title      29999 non-null  object\n",
      " 7   language          30000 non-null  object\n",
      " 8   product_category  30000 non-null  object\n",
      "dtypes: int64(2), object(7)\n",
      "memory usage: 2.1+ MB\n"
     ]
    }
   ],
   "source": [
    "df.info()\n"
   ]
  },
  {
   "cell_type": "code",
   "execution_count": 161,
   "id": "597637e7-59bb-442a-b225-680de21e788f",
   "metadata": {},
   "outputs": [
    {
     "name": "stdout",
     "output_type": "stream",
     "text": [
      "['Unnamed: 0' 'review_id' 'product_id' 'reviewer_id' 'stars' 'review_body'\n",
      " 'review_title' 'language' 'product_category']\n"
     ]
    }
   ],
   "source": [
    "print(df.columns.values)"
   ]
  },
  {
   "cell_type": "code",
   "execution_count": 163,
   "id": "cd349d64-0aa9-4814-8bb8-87814b0f2aae",
   "metadata": {},
   "outputs": [
    {
     "data": {
      "text/plain": [
       "Unnamed: 0          0\n",
       "review_id           0\n",
       "product_id          0\n",
       "reviewer_id         0\n",
       "stars               0\n",
       "review_body         0\n",
       "review_title        1\n",
       "language            0\n",
       "product_category    0\n",
       "dtype: int64"
      ]
     },
     "execution_count": 163,
     "metadata": {},
     "output_type": "execute_result"
    }
   ],
   "source": [
    "df.isnull().sum()"
   ]
  },
  {
   "cell_type": "code",
   "execution_count": 165,
   "id": "fa5bde22-1abf-4109-9ead-2abdead0dbc5",
   "metadata": {},
   "outputs": [
    {
     "data": {
      "text/html": [
       "<div>\n",
       "<style scoped>\n",
       "    .dataframe tbody tr th:only-of-type {\n",
       "        vertical-align: middle;\n",
       "    }\n",
       "\n",
       "    .dataframe tbody tr th {\n",
       "        vertical-align: top;\n",
       "    }\n",
       "\n",
       "    .dataframe thead th {\n",
       "        text-align: right;\n",
       "    }\n",
       "</style>\n",
       "<table border=\"1\" class=\"dataframe\">\n",
       "  <thead>\n",
       "    <tr style=\"text-align: right;\">\n",
       "      <th></th>\n",
       "      <th>Unnamed: 0</th>\n",
       "      <th>review_id</th>\n",
       "      <th>product_id</th>\n",
       "      <th>reviewer_id</th>\n",
       "      <th>stars</th>\n",
       "      <th>review_body</th>\n",
       "      <th>review_title</th>\n",
       "      <th>language</th>\n",
       "      <th>product_category</th>\n",
       "    </tr>\n",
       "  </thead>\n",
       "  <tbody>\n",
       "    <tr>\n",
       "      <th>6201</th>\n",
       "      <td>6201</td>\n",
       "      <td>en_0216038</td>\n",
       "      <td>product_en_0008836</td>\n",
       "      <td>reviewer_en_0270033</td>\n",
       "      <td>2</td>\n",
       "      <td>I’ll pay extra money to come in early and they...</td>\n",
       "      <td>NaN</td>\n",
       "      <td>en</td>\n",
       "      <td>apparel</td>\n",
       "    </tr>\n",
       "  </tbody>\n",
       "</table>\n",
       "</div>"
      ],
      "text/plain": [
       "      Unnamed: 0   review_id          product_id          reviewer_id  stars  \\\n",
       "6201        6201  en_0216038  product_en_0008836  reviewer_en_0270033      2   \n",
       "\n",
       "                                            review_body review_title language  \\\n",
       "6201  I’ll pay extra money to come in early and they...          NaN       en   \n",
       "\n",
       "     product_category  \n",
       "6201          apparel  "
      ]
     },
     "execution_count": 165,
     "metadata": {},
     "output_type": "execute_result"
    }
   ],
   "source": [
    "df[df['review_title'].isnull()== True]"
   ]
  },
  {
   "cell_type": "code",
   "execution_count": 171,
   "id": "c72a958b-ae2c-413b-b284-9fcda2ecca5c",
   "metadata": {},
   "outputs": [
    {
     "data": {
      "text/html": [
       "<div>\n",
       "<style scoped>\n",
       "    .dataframe tbody tr th:only-of-type {\n",
       "        vertical-align: middle;\n",
       "    }\n",
       "\n",
       "    .dataframe tbody tr th {\n",
       "        vertical-align: top;\n",
       "    }\n",
       "\n",
       "    .dataframe thead th {\n",
       "        text-align: right;\n",
       "    }\n",
       "</style>\n",
       "<table border=\"1\" class=\"dataframe\">\n",
       "  <thead>\n",
       "    <tr style=\"text-align: right;\">\n",
       "      <th></th>\n",
       "      <th>Unnamed: 0</th>\n",
       "      <th>stars</th>\n",
       "    </tr>\n",
       "  </thead>\n",
       "  <tbody>\n",
       "    <tr>\n",
       "      <th>count</th>\n",
       "      <td>30000.000000</td>\n",
       "      <td>30000.000000</td>\n",
       "    </tr>\n",
       "    <tr>\n",
       "      <th>mean</th>\n",
       "      <td>14999.500000</td>\n",
       "      <td>3.000000</td>\n",
       "    </tr>\n",
       "    <tr>\n",
       "      <th>std</th>\n",
       "      <td>8660.398374</td>\n",
       "      <td>1.414237</td>\n",
       "    </tr>\n",
       "    <tr>\n",
       "      <th>min</th>\n",
       "      <td>0.000000</td>\n",
       "      <td>1.000000</td>\n",
       "    </tr>\n",
       "    <tr>\n",
       "      <th>25%</th>\n",
       "      <td>7499.750000</td>\n",
       "      <td>2.000000</td>\n",
       "    </tr>\n",
       "    <tr>\n",
       "      <th>50%</th>\n",
       "      <td>14999.500000</td>\n",
       "      <td>3.000000</td>\n",
       "    </tr>\n",
       "    <tr>\n",
       "      <th>75%</th>\n",
       "      <td>22499.250000</td>\n",
       "      <td>4.000000</td>\n",
       "    </tr>\n",
       "    <tr>\n",
       "      <th>max</th>\n",
       "      <td>29999.000000</td>\n",
       "      <td>5.000000</td>\n",
       "    </tr>\n",
       "  </tbody>\n",
       "</table>\n",
       "</div>"
      ],
      "text/plain": [
       "         Unnamed: 0         stars\n",
       "count  30000.000000  30000.000000\n",
       "mean   14999.500000      3.000000\n",
       "std     8660.398374      1.414237\n",
       "min        0.000000      1.000000\n",
       "25%     7499.750000      2.000000\n",
       "50%    14999.500000      3.000000\n",
       "75%    22499.250000      4.000000\n",
       "max    29999.000000      5.000000"
      ]
     },
     "execution_count": 171,
     "metadata": {},
     "output_type": "execute_result"
    }
   ],
   "source": [
    "df.describe()"
   ]
  },
  {
   "cell_type": "code",
   "execution_count": 173,
   "id": "6ad9334a-ce5b-43ef-a98f-a07d27e9d102",
   "metadata": {},
   "outputs": [
    {
     "data": {
      "text/plain": [
       "Unnamed: 0          30000\n",
       "review_id           30000\n",
       "product_id          29798\n",
       "reviewer_id         29923\n",
       "stars                   5\n",
       "review_body         29981\n",
       "review_title        24932\n",
       "language                6\n",
       "product_category       31\n",
       "dtype: int64"
      ]
     },
     "execution_count": 173,
     "metadata": {},
     "output_type": "execute_result"
    }
   ],
   "source": [
    "df.nunique()"
   ]
  },
  {
   "cell_type": "code",
   "execution_count": 185,
   "id": "5f065119-b714-4fe2-8e9f-28ecf54597dd",
   "metadata": {},
   "outputs": [
    {
     "data": {
      "text/plain": [
       "Unnamed: 0          0\n",
       "review_id           0\n",
       "product_id          0\n",
       "reviewer_id         0\n",
       "stars               0\n",
       "review_body         0\n",
       "review_title        1\n",
       "language            0\n",
       "product_category    0\n",
       "dtype: int64"
      ]
     },
     "execution_count": 185,
     "metadata": {},
     "output_type": "execute_result"
    }
   ],
   "source": [
    "df.isnull().sum()"
   ]
  },
  {
   "cell_type": "code",
   "execution_count": 187,
   "id": "bfc7baac-edc9-4947-8f95-83a2764e5d08",
   "metadata": {},
   "outputs": [
    {
     "data": {
      "text/plain": [
       "Unnamed: 0          0\n",
       "review_id           0\n",
       "product_id          0\n",
       "reviewer_id         0\n",
       "stars               0\n",
       "review_body         0\n",
       "review_title        1\n",
       "language            0\n",
       "product_category    0\n",
       "dtype: int64"
      ]
     },
     "execution_count": 187,
     "metadata": {},
     "output_type": "execute_result"
    }
   ],
   "source": [
    "df.isna().sum()"
   ]
  },
  {
   "cell_type": "code",
   "execution_count": 189,
   "id": "5f4ed43f-4a5f-4da4-85bb-2456c28e467d",
   "metadata": {},
   "outputs": [
    {
     "data": {
      "text/html": [
       "<div>\n",
       "<style scoped>\n",
       "    .dataframe tbody tr th:only-of-type {\n",
       "        vertical-align: middle;\n",
       "    }\n",
       "\n",
       "    .dataframe tbody tr th {\n",
       "        vertical-align: top;\n",
       "    }\n",
       "\n",
       "    .dataframe thead th {\n",
       "        text-align: right;\n",
       "    }\n",
       "</style>\n",
       "<table border=\"1\" class=\"dataframe\">\n",
       "  <thead>\n",
       "    <tr style=\"text-align: right;\">\n",
       "      <th></th>\n",
       "      <th>Unnamed: 0</th>\n",
       "      <th>review_id</th>\n",
       "      <th>product_id</th>\n",
       "      <th>reviewer_id</th>\n",
       "      <th>stars</th>\n",
       "      <th>review_body</th>\n",
       "      <th>review_title</th>\n",
       "      <th>language</th>\n",
       "      <th>product_category</th>\n",
       "    </tr>\n",
       "  </thead>\n",
       "  <tbody>\n",
       "    <tr>\n",
       "      <th>0</th>\n",
       "      <td>0</td>\n",
       "      <td>de_0784695</td>\n",
       "      <td>product_de_0572654</td>\n",
       "      <td>reviewer_de_0645436</td>\n",
       "      <td>1</td>\n",
       "      <td>Leider, leider nach einmal waschen ausgebliche...</td>\n",
       "      <td>Leider nicht zu empfehlen</td>\n",
       "      <td>de</td>\n",
       "      <td>home</td>\n",
       "    </tr>\n",
       "    <tr>\n",
       "      <th>1</th>\n",
       "      <td>1</td>\n",
       "      <td>de_0759207</td>\n",
       "      <td>product_de_0567331</td>\n",
       "      <td>reviewer_de_0183703</td>\n",
       "      <td>1</td>\n",
       "      <td>zunächst macht der Anker Halter einen soliden ...</td>\n",
       "      <td>Gummierung nach 6 Monaten kaputt</td>\n",
       "      <td>de</td>\n",
       "      <td>wireless</td>\n",
       "    </tr>\n",
       "    <tr>\n",
       "      <th>2</th>\n",
       "      <td>2</td>\n",
       "      <td>de_0711785</td>\n",
       "      <td>product_de_0482105</td>\n",
       "      <td>reviewer_de_0182152</td>\n",
       "      <td>1</td>\n",
       "      <td>Siegel sowie Verpackung war beschädigt und war...</td>\n",
       "      <td>Flohmarkt ware</td>\n",
       "      <td>de</td>\n",
       "      <td>industrial_supplies</td>\n",
       "    </tr>\n",
       "    <tr>\n",
       "      <th>3</th>\n",
       "      <td>3</td>\n",
       "      <td>de_0964430</td>\n",
       "      <td>product_de_0616480</td>\n",
       "      <td>reviewer_de_0991563</td>\n",
       "      <td>1</td>\n",
       "      <td>Habe dieses Produkt NIE erhalten und das Geld ...</td>\n",
       "      <td>Katastrophe</td>\n",
       "      <td>de</td>\n",
       "      <td>industrial_supplies</td>\n",
       "    </tr>\n",
       "    <tr>\n",
       "      <th>4</th>\n",
       "      <td>4</td>\n",
       "      <td>de_0474538</td>\n",
       "      <td>product_de_0228702</td>\n",
       "      <td>reviewer_de_0316188</td>\n",
       "      <td>1</td>\n",
       "      <td>Die Träger sind schnell abgerissen</td>\n",
       "      <td>Reißverschluss klemmt</td>\n",
       "      <td>de</td>\n",
       "      <td>luggage</td>\n",
       "    </tr>\n",
       "    <tr>\n",
       "      <th>...</th>\n",
       "      <td>...</td>\n",
       "      <td>...</td>\n",
       "      <td>...</td>\n",
       "      <td>...</td>\n",
       "      <td>...</td>\n",
       "      <td>...</td>\n",
       "      <td>...</td>\n",
       "      <td>...</td>\n",
       "      <td>...</td>\n",
       "    </tr>\n",
       "    <tr>\n",
       "      <th>29995</th>\n",
       "      <td>29995</td>\n",
       "      <td>zh_0691813</td>\n",
       "      <td>product_zh_0978860</td>\n",
       "      <td>reviewer_zh_0800380</td>\n",
       "      <td>5</td>\n",
       "      <td>用的少，意大利的，偶尔会煮下。。。。。。。</td>\n",
       "      <td>用的少，应该还可以的</td>\n",
       "      <td>zh</td>\n",
       "      <td>kitchen</td>\n",
       "    </tr>\n",
       "    <tr>\n",
       "      <th>29996</th>\n",
       "      <td>29996</td>\n",
       "      <td>zh_0720214</td>\n",
       "      <td>product_zh_0929524</td>\n",
       "      <td>reviewer_zh_0944464</td>\n",
       "      <td>5</td>\n",
       "      <td>QAQ熬夜看完的。 这竟然是一个真实的爱情故事。 觉得可以改编成爱情电影了。 hoho。</td>\n",
       "      <td>QAQ这是一段爱情之旅。</td>\n",
       "      <td>zh</td>\n",
       "      <td>book</td>\n",
       "    </tr>\n",
       "    <tr>\n",
       "      <th>29997</th>\n",
       "      <td>29997</td>\n",
       "      <td>zh_0651091</td>\n",
       "      <td>product_zh_0654154</td>\n",
       "      <td>reviewer_zh_0959472</td>\n",
       "      <td>5</td>\n",
       "      <td>上午十点下单，下午就送到我手里了，简直神速，不能更满意了</td>\n",
       "      <td>很好</td>\n",
       "      <td>zh</td>\n",
       "      <td>book</td>\n",
       "    </tr>\n",
       "    <tr>\n",
       "      <th>29998</th>\n",
       "      <td>29998</td>\n",
       "      <td>zh_0299325</td>\n",
       "      <td>product_zh_0871641</td>\n",
       "      <td>reviewer_zh_0119054</td>\n",
       "      <td>5</td>\n",
       "      <td>洗护用品很好卖家送了两个方便折叠小梳子，非常方便</td>\n",
       "      <td>很好</td>\n",
       "      <td>zh</td>\n",
       "      <td>beauty</td>\n",
       "    </tr>\n",
       "    <tr>\n",
       "      <th>29999</th>\n",
       "      <td>29999</td>\n",
       "      <td>zh_0470070</td>\n",
       "      <td>product_zh_0619157</td>\n",
       "      <td>reviewer_zh_0446556</td>\n",
       "      <td>5</td>\n",
       "      <td>包装很严实，在我看来有点过度包装了。套件做工很不错，值得购买。</td>\n",
       "      <td>套件很好</td>\n",
       "      <td>zh</td>\n",
       "      <td>camera</td>\n",
       "    </tr>\n",
       "  </tbody>\n",
       "</table>\n",
       "<p>29999 rows × 9 columns</p>\n",
       "</div>"
      ],
      "text/plain": [
       "       Unnamed: 0   review_id          product_id          reviewer_id  stars  \\\n",
       "0               0  de_0784695  product_de_0572654  reviewer_de_0645436      1   \n",
       "1               1  de_0759207  product_de_0567331  reviewer_de_0183703      1   \n",
       "2               2  de_0711785  product_de_0482105  reviewer_de_0182152      1   \n",
       "3               3  de_0964430  product_de_0616480  reviewer_de_0991563      1   \n",
       "4               4  de_0474538  product_de_0228702  reviewer_de_0316188      1   \n",
       "...           ...         ...                 ...                  ...    ...   \n",
       "29995       29995  zh_0691813  product_zh_0978860  reviewer_zh_0800380      5   \n",
       "29996       29996  zh_0720214  product_zh_0929524  reviewer_zh_0944464      5   \n",
       "29997       29997  zh_0651091  product_zh_0654154  reviewer_zh_0959472      5   \n",
       "29998       29998  zh_0299325  product_zh_0871641  reviewer_zh_0119054      5   \n",
       "29999       29999  zh_0470070  product_zh_0619157  reviewer_zh_0446556      5   \n",
       "\n",
       "                                             review_body  \\\n",
       "0      Leider, leider nach einmal waschen ausgebliche...   \n",
       "1      zunächst macht der Anker Halter einen soliden ...   \n",
       "2      Siegel sowie Verpackung war beschädigt und war...   \n",
       "3      Habe dieses Produkt NIE erhalten und das Geld ...   \n",
       "4                     Die Träger sind schnell abgerissen   \n",
       "...                                                  ...   \n",
       "29995                              用的少，意大利的，偶尔会煮下。。。。。。。   \n",
       "29996       QAQ熬夜看完的。 这竟然是一个真实的爱情故事。 觉得可以改编成爱情电影了。 hoho。   \n",
       "29997                       上午十点下单，下午就送到我手里了，简直神速，不能更满意了   \n",
       "29998                           洗护用品很好卖家送了两个方便折叠小梳子，非常方便   \n",
       "29999                    包装很严实，在我看来有点过度包装了。套件做工很不错，值得购买。   \n",
       "\n",
       "                           review_title language     product_category  \n",
       "0             Leider nicht zu empfehlen       de                 home  \n",
       "1      Gummierung nach 6 Monaten kaputt       de             wireless  \n",
       "2                        Flohmarkt ware       de  industrial_supplies  \n",
       "3                           Katastrophe       de  industrial_supplies  \n",
       "4                 Reißverschluss klemmt       de              luggage  \n",
       "...                                 ...      ...                  ...  \n",
       "29995                        用的少，应该还可以的       zh              kitchen  \n",
       "29996                      QAQ这是一段爱情之旅。       zh                 book  \n",
       "29997                                很好       zh                 book  \n",
       "29998                                很好       zh               beauty  \n",
       "29999                              套件很好       zh               camera  \n",
       "\n",
       "[29999 rows x 9 columns]"
      ]
     },
     "execution_count": 189,
     "metadata": {},
     "output_type": "execute_result"
    }
   ],
   "source": [
    "df.dropna()"
   ]
  },
  {
   "cell_type": "code",
   "execution_count": 191,
   "id": "33349465-5b68-4431-8a83-f8dcaedd5c51",
   "metadata": {},
   "outputs": [
    {
     "name": "stdout",
     "output_type": "stream",
     "text": [
      "language\n",
      "de    5000\n",
      "en    5000\n",
      "es    5000\n",
      "fr    5000\n",
      "ja    5000\n",
      "zh    5000\n",
      "Name: count, dtype: int64\n"
     ]
    }
   ],
   "source": [
    "common_elements = df['language'].value_counts()\n",
    "common_elements = common_elements[common_elements > 1]\n",
    "\n",
    "# Displaying the common elements\n",
    "print(common_elements)"
   ]
  },
  {
   "cell_type": "code",
   "execution_count": 193,
   "id": "b6896d5a-7433-497b-b7d1-7d8515f12673",
   "metadata": {},
   "outputs": [
    {
     "data": {
      "image/png": "[encoded data removed]",
      "text/plain": [
       "<Figure size 800x800 with 2 Axes>"
      ]
     },
     "metadata": {},
     "output_type": "display_data"
    },
    {
     "data": {
      "image/png": "[encoded data removed]",
      "text/plain": [
       "<Figure size 500x500 with 1 Axes>"
      ]
     },
     "metadata": {},
     "output_type": "display_data"
    },
    {
     "data": {
      "image/png": "[encoded data removed]",
      "text/plain": [
       "<Figure size 640x480 with 1 Axes>"
      ]
     },
     "metadata": {},
     "output_type": "display_data"
    },
    {
     "data": {
      "image/png": "[encoded data removed]",
      "text/plain": [
       "<Figure size 640x480 with 1 Axes>"
      ]
     },
     "metadata": {},
     "output_type": "display_data"
    }
   ],
   "source": [
    "import matplotlib.pyplot as plt\n",
    "\n",
    "# Histogram\n",
    "df['stars'].hist(bins=10)\n",
    "plt.xlabel('Stars')\n",
    "plt.ylabel('Frequency')\n",
    "plt.title('Distribution of Stars')\n",
    "plt.show()\n",
    "\n",
    "# Box Plot\n",
    "df.boxplot(column='stars')\n",
    "plt.title('Box Plot of Stars')\n",
    "plt.show()\n"
   ]
  },
  {
   "cell_type": "code",
   "execution_count": 195,
   "id": "04672a11-5e63-4526-b745-79f1a88452d0",
   "metadata": {},
   "outputs": [
    {
     "data": {
      "image/png": "[encoded data removed]",
      "text/plain": [
       "<Figure size 1000x600 with 1 Axes>"
      ]
     },
     "metadata": {},
     "output_type": "display_data"
    }
   ],
   "source": [
    "import matplotlib.pyplot as plt\n",
    "\n",
    "# Get value counts\n",
    "language_counts = df['language'].value_counts()\n",
    "\n",
    "# Plot the bar chart\n",
    "language_counts.plot(kind='bar', figsize=(10, 6))\n",
    "plt.xlabel('Language')\n",
    "plt.ylabel('Count')\n",
    "plt.title('Frequency of Languages')\n",
    "plt.xticks(rotation=0)\n",
    "plt.show()\n"
   ]
  },
  {
   "cell_type": "code",
   "execution_count": 197,
   "id": "90254008-6eff-4f0b-abec-1172a94c1e0a",
   "metadata": {},
   "outputs": [
    {
     "data": {
      "image/png": "[encoded data removed]",
      "text/plain": [
       "<Figure size 800x800 with 1 Axes>"
      ]
     },
     "metadata": {},
     "output_type": "display_data"
    }
   ],
   "source": [
    "# Pie chart\n",
    "language_counts.plot(kind='pie', figsize=(8, 8), autopct='%1.1f%%')\n",
    "plt.title('Proportion of Languages')\n",
    "plt.ylabel('')  # Remove y-label for aesthetics\n",
    "plt.show()\n"
   ]
  },
  {
   "cell_type": "code",
   "execution_count": null,
   "id": "a8a1095c-cdb1-46ba-8015-b071563bc5ea",
   "metadata": {},
   "outputs": [],
   "source": []
  }
 ],
 "metadata": {
  "kernelspec": {
   "display_name": "Python 3 (ipykernel)",
   "language": "python",
   "name": "python3"
  },
  "language_info": {
   "codemirror_mode": {
    "name": "ipython",
    "version": 3
   },
   "file_extension": ".py",
   "mimetype": "text/x-python",
   "name": "python",
   "nbconvert_exporter": "python",
   "pygments_lexer": "ipython3",
   "version": "3.12.7"
  }
 },
 "nbformat": 4,
 "nbformat_minor": 5
}
